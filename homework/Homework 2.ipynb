{
 "cells": [
  {
   "cell_type": "markdown",
   "metadata": {},
   "source": [
    "## 1.  For the following Markov chain:"
   ]
  },
  {
   "cell_type": "code",
   "execution_count": 8,
   "metadata": {},
   "outputs": [
    {
     "data": {
      "text/plain": [
       "6×6 Array{Float64,2}:\n",
       " 0.07577237  0.30558799  0.13634462  0.09235909  0.24118938  0.14874655\n",
       " 0.09095265  0.26245171  0.20295306  0.22560194  0.16926688  0.04877377\n",
       " 0.28113101  0.22625029  0.25279671  0.06918068  0.06996783  0.10067347\n",
       " 0.00215574  0.26892397  0.05709341  0.17454523  0.23117988  0.26610178\n",
       " 0.21183828  0.24094609  0.10898555  0.37872538  0.03712716  0.02237754\n",
       " 0.10350363  0.21445063  0.00999616  0.13667601  0.27140954  0.26396402"
      ]
     },
     "execution_count": 8,
     "metadata": {},
     "output_type": "execute_result"
    }
   ],
   "source": [
    "P = [\n",
    "    0.07577237  0.30558799  0.13634462  0.09235909  0.24118938  0.14874655;\n",
    "    0.09095265  0.26245171  0.20295306  0.22560194  0.16926688  0.04877377;\n",
    "    0.28113101  0.22625029  0.25279671  0.06918068  0.06996783  0.10067347;\n",
    "    0.00215574  0.26892397  0.05709341  0.17454523  0.23117988  0.26610178;\n",
    "    0.21183828  0.24094609  0.10898555  0.37872538  0.03712716  0.02237754;\n",
    "    0.10350363  0.21445063  0.00999616  0.13667601  0.27140954  0.26396402;\n",
    "]"
   ]
  },
  {
   "cell_type": "markdown",
   "metadata": {},
   "source": [
    "### a.  Calculate the 3 step transition matrix"
   ]
  },
  {
   "cell_type": "markdown",
   "metadata": {},
   "source": [
    "### b.  Calculate the stationary distribution"
   ]
  },
  {
   "cell_type": "markdown",
   "metadata": {},
   "source": [
    "## 2.  For the following data set"
   ]
  },
  {
   "cell_type": "code",
   "execution_count": 1,
   "metadata": {},
   "outputs": [],
   "source": [
    "x = Int[]\n",
    "open(\"../data/data.txt\") do io\n",
    "    for i = 1:1000\n",
    "        push!( x, read(io, Int))\n",
    "    end\n",
    "end"
   ]
  },
  {
   "cell_type": "code",
   "execution_count": 2,
   "metadata": {},
   "outputs": [
    {
     "data": {
      "text/plain": [
       "5-element Array{Int64,1}:\n",
       " 1\n",
       " 2\n",
       " 5\n",
       " 4\n",
       " 3"
      ]
     },
     "execution_count": 2,
     "metadata": {},
     "output_type": "execute_result"
    }
   ],
   "source": [
    "unique(x)"
   ]
  },
  {
   "cell_type": "markdown",
   "metadata": {},
   "source": [
    "### a.  Estimate the transition matrix using maximum likelihood"
   ]
  },
  {
   "cell_type": "markdown",
   "metadata": {},
   "source": [
    "## 3.  For the following generator matrix"
   ]
  },
  {
   "cell_type": "code",
   "execution_count": 12,
   "metadata": {},
   "outputs": [
    {
     "data": {
      "text/plain": [
       "5×5 Array{Float64,2}:\n",
       " -0.10000000   0.10000000   0.00000000   0.00000000  0.00000000\n",
       "  0.10000000  -0.20000000   0.10000000   0.00000000  0.00000000\n",
       "  0.00000000   0.20000000  -0.40000000   0.20000000  0.00000000\n",
       "  0.00000000   0.00000000   0.80000000  -1.60000000  0.80000000\n",
       "  0.00000000   0.00000000   0.00000000   0.00000000  0.00000000"
      ]
     },
     "execution_count": 12,
     "metadata": {},
     "output_type": "execute_result"
    }
   ],
   "source": [
    "Q = [\n",
    "    -0.1  0.1  0.0  0.0  0.0;\n",
    "     0.1 -0.2  0.1  0.0  0.0;\n",
    "     0.0  0.2 -0.4  0.2  0.0;\n",
    "     0.0  0.0  0.8 -1.6  0.8;\n",
    "     0.0  0.0  0.0  0.0  0.0;\n",
    "    ]"
   ]
  },
  {
   "cell_type": "markdown",
   "metadata": {},
   "source": [
    "### a.  Calculate the time $1$ transition probability matrix"
   ]
  },
  {
   "cell_type": "markdown",
   "metadata": {},
   "source": [
    "### b.  What is the probability of reaching the absorbing state from the first state by time $10$"
   ]
  },
  {
   "cell_type": "markdown",
   "metadata": {},
   "source": [
    "### c.  What is the expected number of steps to reach the absorbing state from each start state for this transition matrix?"
   ]
  },
  {
   "cell_type": "markdown",
   "metadata": {},
   "source": [
    "### d.  Calculate the quasi-stationary distribution"
   ]
  }
 ],
 "metadata": {
  "kernelspec": {
   "display_name": "Julia 1.0.0",
   "language": "julia",
   "name": "julia-1.0"
  },
  "language_info": {
   "file_extension": ".jl",
   "mimetype": "application/julia",
   "name": "julia",
   "version": "1.0.0"
  }
 },
 "nbformat": 4,
 "nbformat_minor": 2
}
