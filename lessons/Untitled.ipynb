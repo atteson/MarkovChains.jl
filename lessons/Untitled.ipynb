{
 "cells": [
  {
   "cell_type": "code",
   "execution_count": 1,
   "metadata": {},
   "outputs": [],
   "source": [
    "using NLopt"
   ]
  },
  {
   "cell_type": "code",
   "execution_count": 2,
   "metadata": {},
   "outputs": [
    {
     "name": "stderr",
     "output_type": "stream",
     "text": [
      "┌ Info: Precompiling Distributions [31c24e10-a181-5473-b8eb-7969acd0382f]\n",
      "└ @ Base loading.jl:1186\n"
     ]
    }
   ],
   "source": [
    "using Distributions"
   ]
  },
  {
   "cell_type": "code",
   "execution_count": null,
   "metadata": {},
   "outputs": [],
   "source": [
    "problem = Opt(:LD_MMA,1)\n",
    "lower_bounds!(problem,[0.0])\n",
    "upper_bounds!(problem,[10.0])\n",
    "xtol_rel!(problem,1e-4)\n",
    "max_objective!(problem,f3)\n",
    "(minf,w,ret)=optimize(problem,[0.5])\n",
    "w3[3]=w[1]"
   ]
  },
  {
   "cell_type": "code",
   "execution_count": 5,
   "metadata": {},
   "outputs": [
    {
     "data": {
      "text/plain": [
       "-10.673304025900975"
      ]
     },
     "execution_count": 5,
     "metadata": {},
     "output_type": "execute_result"
    }
   ],
   "source": [
    "loglikelihood( TDist(10.0), [3.0,4.0])"
   ]
  },
  {
   "cell_type": "code",
   "execution_count": 7,
   "metadata": {},
   "outputs": [
    {
     "data": {
      "text/plain": [
       "Tloglikelihood (generic function with 1 method)"
      ]
     },
     "execution_count": 7,
     "metadata": {},
     "output_type": "execute_result"
    }
   ],
   "source": [
    "Tloglikelihood( param::Vector{Float64}, x::Vector{Float64} ) =\n",
    "    loglikelihood( TDist( param[3] ), param[2]*(x + param[1]) )"
   ]
  },
  {
   "cell_type": "code",
   "execution_count": 25,
   "metadata": {},
   "outputs": [
    {
     "data": {
      "text/plain": [
       "TMLE (generic function with 1 method)"
      ]
     },
     "execution_count": 25,
     "metadata": {},
     "output_type": "execute_result"
    }
   ],
   "source": [
    "function TMLE( initparam::Vector{Float64}, x::Vector{Float64} )\n",
    "    problem = Opt(:LD_MMA,3)\n",
    "    lower_bounds!(problem, [-Inf,0.0,2.0])\n",
    "    xtol_rel!(problem, 1e-4)\n",
    "    max_objective!(problem, param -> Tloglikelihood(param, x))\n",
    "    (minf, param, ret) = optimize(problem, initparam)\n",
    "    return param\n",
    "end"
   ]
  },
  {
   "cell_type": "code",
   "execution_count": 18,
   "metadata": {},
   "outputs": [
    {
     "data": {
      "text/plain": [
       "2.8978066142160186"
      ]
     },
     "execution_count": 18,
     "metadata": {},
     "output_type": "execute_result"
    }
   ],
   "source": [
    "nu = 2 + rand(Exponential())"
   ]
  },
  {
   "cell_type": "code",
   "execution_count": 20,
   "metadata": {},
   "outputs": [
    {
     "data": {
      "text/plain": [
       "0.574965954259842"
      ]
     },
     "execution_count": 20,
     "metadata": {},
     "output_type": "execute_result"
    }
   ],
   "source": [
    "sigma = rand(Exponential())"
   ]
  },
  {
   "cell_type": "code",
   "execution_count": 21,
   "metadata": {},
   "outputs": [
    {
     "data": {
      "text/plain": [
       "-0.024682427339760823"
      ]
     },
     "execution_count": 21,
     "metadata": {},
     "output_type": "execute_result"
    }
   ],
   "source": [
    "mu = rand(Normal())"
   ]
  },
  {
   "cell_type": "code",
   "execution_count": 23,
   "metadata": {},
   "outputs": [
    {
     "data": {
      "text/plain": [
       "1000-element Array{Float64,1}:\n",
       "  0.46920306526546135 \n",
       "  0.649323895825945   \n",
       " -0.6543224657386251  \n",
       "  0.06995920166794516 \n",
       " -2.0875885880578444  \n",
       " -0.45744079431262247 \n",
       "  0.2375570241283676  \n",
       "  0.6320527308520605  \n",
       " -3.8656225671838063  \n",
       "  0.02028599651301031 \n",
       "  0.009506155950851343\n",
       "  0.3448789518458709  \n",
       "  0.22627242210887924 \n",
       "  ⋮                   \n",
       "  0.5536182781093372  \n",
       "  0.03260257877225042 \n",
       "  0.09026872719414467 \n",
       " -0.259137288787339   \n",
       " -0.9640441737520098  \n",
       " -0.2669752863524001  \n",
       " -0.07714775860939929 \n",
       " -1.2539826514741186  \n",
       "  0.24887228818451426 \n",
       " -0.1213715935571065  \n",
       "  1.4724303856450027  \n",
       "  0.5463729978847182  "
      ]
     },
     "execution_count": 23,
     "metadata": {},
     "output_type": "execute_result"
    }
   ],
   "source": [
    "x = sigma*(mu .+ rand(TDist(nu),1000))"
   ]
  },
  {
   "cell_type": "code",
   "execution_count": 27,
   "metadata": {},
   "outputs": [
    {
     "data": {
      "text/plain": [
       "3-element Array{Float64,1}:\n",
       " 0.0\n",
       " 1.0\n",
       " 3.0"
      ]
     },
     "execution_count": 27,
     "metadata": {},
     "output_type": "execute_result"
    }
   ],
   "source": [
    "TMLE( [0.0, 1.0, 3.0], x )"
   ]
  },
  {
   "cell_type": "code",
   "execution_count": 28,
   "metadata": {},
   "outputs": [
    {
     "ename": "UndefVarError",
     "evalue": "UndefVarError: dloglikelihood not defined",
     "output_type": "error",
     "traceback": [
      "UndefVarError: dloglikelihood not defined",
      "",
      "Stacktrace:",
      " [1] top-level scope at In[28]:1"
     ]
    }
   ],
   "source": [
    "dloglikelihood"
   ]
  },
  {
   "cell_type": "code",
   "execution_count": 29,
   "metadata": {},
   "outputs": [
    {
     "ename": "UndefVarError",
     "evalue": "UndefVarError: gradloglikelihood not defined",
     "output_type": "error",
     "traceback": [
      "UndefVarError: gradloglikelihood not defined",
      "",
      "Stacktrace:",
      " [1] top-level scope at In[29]:1"
     ]
    }
   ],
   "source": [
    "gradloglikelihood"
   ]
  },
  {
   "cell_type": "code",
   "execution_count": null,
   "metadata": {},
   "outputs": [],
   "source": []
  }
 ],
 "metadata": {
  "kernelspec": {
   "display_name": "Julia 1.0.0",
   "language": "julia",
   "name": "julia-1.0"
  },
  "language_info": {
   "file_extension": ".jl",
   "mimetype": "application/julia",
   "name": "julia",
   "version": "1.0.0"
  }
 },
 "nbformat": 4,
 "nbformat_minor": 2
}
